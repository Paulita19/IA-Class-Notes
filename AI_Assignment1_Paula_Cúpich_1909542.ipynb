{
  "nbformat": 4,
  "nbformat_minor": 0,
  "metadata": {
    "colab": {
      "provenance": []
    },
    "kernelspec": {
      "name": "python3",
      "display_name": "Python 3"
    },
    "language_info": {
      "name": "python"
    }
  },
  "cells": [
    {
      "cell_type": "markdown",
      "source": [
        "Artificial Intelligence\n",
        "A2: Python Exercises\n",
        "Paula Carolina Cúpich Méndez\n",
        "1909542"
      ],
      "metadata": {
        "id": "m2MS4i6ee-hH"
      }
    },
    {
      "cell_type": "code",
      "source": [
        "name = input(\"Enter your name: \")\n",
        "if name == \"Ana\":\n",
        "  print(\"Leave me alone, please\")\n",
        "elif name == \"John\":\n",
        "  print(\"Leave me alone, please\")\n",
        "elif name == \"Peter\":\n",
        "  print(\"Leave me alone, please\")\n",
        "else:\n",
        "  print(\"Hi\", name + \":D\")\n"
      ],
      "metadata": {
        "colab": {
          "base_uri": "https://localhost:8080/"
        },
        "outputId": "bacd270a-15c1-4a1c-9f3c-a48b88324d88",
        "id": "qV85C_B0nIPF"
      },
      "execution_count": 26,
      "outputs": [
        {
          "output_type": "stream",
          "name": "stdout",
          "text": [
            "Enter your name: Paula\n",
            "Hi Paula:D\n"
          ]
        }
      ]
    },
    {
      "cell_type": "code",
      "source": [
        "name = input(\"Enter your name: \")\n",
        "if name == \"Ana\":\n",
        "  print(\"Leave me alone, please\")\n",
        "elif name == \"John\":\n",
        "  print(\"Leave me alone, please\")\n",
        "elif name == \"Peter\":\n",
        "  print(\"Leave me alone, please\")\n",
        "else:\n",
        "  print(\"Hi\", name + \":D\")\n"
      ],
      "metadata": {
        "colab": {
          "base_uri": "https://localhost:8080/"
        },
        "id": "e3nda95XfS_K",
        "outputId": "8c156408-584a-44f8-e3e6-a2ae378c0a3f"
      },
      "execution_count": 25,
      "outputs": [
        {
          "output_type": "stream",
          "name": "stdout",
          "text": [
            "Enter your name: John\n",
            "Leave me alone, please\n"
          ]
        }
      ]
    },
    {
      "cell_type": "code",
      "source": [
        "mylist = [\"red\", \"orange\", \"yellow\", \"green\", \"blue\", \"purple\", \"pink\"]\n",
        "print(mylist[-1])\n",
        "mylist.sort(reverse = True)\n",
        "print(mylist)"
      ],
      "metadata": {
        "colab": {
          "base_uri": "https://localhost:8080/"
        },
        "id": "nSjmI8AYiwrY",
        "outputId": "a22676dd-d8a8-49bf-8360-8c80a63efbb1"
      },
      "execution_count": 10,
      "outputs": [
        {
          "output_type": "stream",
          "name": "stdout",
          "text": [
            "pink\n",
            "['yellow', 'red', 'purple', 'pink', 'orange', 'green', 'blue']\n"
          ]
        }
      ]
    },
    {
      "cell_type": "code",
      "source": [
        "square = [ \"Hi\", \"I'm\", \"happy\", \"to\", \"be\", \"learning\", \"python\"]\n",
        "count = 0\n",
        "while count < 7:\n",
        "  if count == 0:\n",
        "    print(\"*************\")\n",
        "  print (\"*\", square[count]+ (9-len(square[count]))*\" \", \"*\")\n",
        "  count += 1\n",
        "print(\"*************\")\n"
      ],
      "metadata": {
        "colab": {
          "base_uri": "https://localhost:8080/"
        },
        "id": "_E5NO8RLjpGy",
        "outputId": "684898db-0236-46d2-c836-173f02944741"
      },
      "execution_count": 35,
      "outputs": [
        {
          "output_type": "stream",
          "name": "stdout",
          "text": [
            "*************\n",
            "* Hi        *\n",
            "* I'm       *\n",
            "* happy     *\n",
            "* to        *\n",
            "* be        *\n",
            "* learning  *\n",
            "* python    *\n",
            "*************\n"
          ]
        }
      ]
    }
  ]
}